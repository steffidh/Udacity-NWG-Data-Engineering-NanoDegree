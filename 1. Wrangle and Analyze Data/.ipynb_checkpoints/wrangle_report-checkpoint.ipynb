{
 "cells": [
  {
   "cell_type": "markdown",
   "metadata": {},
   "source": [
    "## Reporting: wragle_report\n",
    "* Create a **300-600 word written report** called \"wrangle_report.pdf\" or \"wrangle_report.html\" that briefly describes your wrangling efforts. This is to be framed as an internal document."
   ]
  },
  {
   "cell_type": "markdown",
   "metadata": {},
   "source": [
    "## Step 1. Gathering Data\n",
    "\n",
    "In this step, data needs to be gathered from 3 different sources and are to be stored into dataframes:\n",
    "  - `twitter_archive_df`: Directly reading the twitter-archive-enhanced.csv from local using pandas read_csv method\n",
    "  - `predictions_df`: Downloading the data from the given URL using requests library\n",
    "  - `count_df`: Gathering data from twitter API using the tweepy library and store the result into twitter-json.txt"
   ]
  },
  {
   "cell_type": "markdown",
   "metadata": {},
   "source": [
    "## Step 2. Assessing Data\n",
    "\n",
    "In this step, both visual and programmatic assessment must be used to find out atleast 8 Quality issues and atleast 2 Tidiness issues.\n",
    "Upon assessment I found out following issues.\n",
    "\n",
    "### Quality \n",
    "| SNo. | Issue | Table|\n",
    "| :--- | :-- | :--- |\n",
    "| 1. |  `twitter_archive_df`| Incorrect datatype(tweet_id, in_reply_to_status_id, in_reply_to_user_id, timestamp, source, retweeted_status_id, retweeted_status_user_id, retweeted_status_timestamp) | \n",
    "| 2. | `twitter_archive_df` | Source contain html quotes | \n",
    "| 3. | `twitter_archive_df` | Name, doggo, fluffer, pupper, puppo has None for NaN | \n",
    "| 4. | `twitter_archive_df` | There are invalid dog name such as all, my, not, a, an, the, by, such etc. | \n",
    "| 5. | `twitter_archive_df` | Delete the Retweets so that we only have the original tweets |\n",
    "| 6. | `twitter_archive_df` | Remove Tweet ids who do not have image predictions in the image prediction table |\n",
    "| 7. | `twitter_archive_df` | Inaccurate values of rating_numerator |\n",
    "| 8. | `predictions_df` | Incorrect datatype(tweet_id, p1, p2, p3) | \n",
    "| 9. | `predictions_df` | Remove p1_dog, p2_dog, p3_dog which are set as False as these are not dog types | \n",
    "| 10. | `count_df` | Incorrect datatype(tweet_id) | \n",
    "\n",
    "### Tidiness\n",
    "| SNo. | Issue | \n",
    "| :--- | :--- | \n",
    "| 1. | doggo, floofer, pupper, puppo should be in one column | \n",
    "| 2. | Split text column into two separate columns (tweet text and tweet_url) | \n",
    "| 3. | Combine P1, P2, and P3 into prediction_type and cofindence level columns |\n",
    "| 4. | Join all three tables |"
   ]
  },
  {
   "cell_type": "markdown",
   "metadata": {},
   "source": [
    "## Step 3: Cleaning the Data\n",
    "\n",
    "Once all the issues were documented, I followed the Define, Code, and Test to Clean the data using the knowledge I gained from the previous lessons.\n",
    "\n",
    "### Quality Issues:\n",
    "1. Incorrect datatypes in twitter_archive_df (tweet_id, in_reply_to_status_id, in_reply_to_user_id, timestamp, source, retweeted_status_id, retweeted_status_user_id, retweeted_status_timestamp): IDs (like tweet_id, in_reply_to_status_id etc.) should be treated as string type, and timestamp fields should be of datetime type.\n",
    "2. Source field in twitter_archive_df had html codes which won't be of any use during analysis and visualization.\n",
    "3. 5 columns(name, doggo, fluffer, pupper, puppo) in twitter_archive_df had None for NaN: None will be treated as a valid non null value in calculations, hence I changed all the None to NaN.\n",
    "4. There were many tweets having dog names which were not valid like a, an, the etc., so I removed all names starting with a lowercase.\n",
    "5. Deleted the Retweets so that we only have the original tweets.\n",
    "6. Removed the Tweet IDs from Archive table which were not present in Image Prediction file.\n",
    "7. There were incorrect numerators captured for tweets with decimal point ratings.\n",
    "8. Incorrect datatypes in predictions_df(tweet_id, p1, p2, p3).\n",
    "9. Removed p1_dog, p2_dog, p3_dog whihc were set as False as these are not dog types.\n",
    "10. Incorrect DataType for tweet_id in count_df\n",
    "\n",
    "\n",
    "### Tidiness Issues:\n",
    "1. Merged doggo, floofer, pupper, puppo in one column called dog_stage.\n",
    "2. Splited text column of archive table into two separate columns (tweet text and tweet_url).\n",
    "3. Combined p1, p1_conf, p1_dog, p2, p2_conf, p2_dog, p3, p3_conf, p3_dog into prediction_type, and cofindence_level columns as all these columns convey this information only.\n",
    "4. Joined all three dataframes into 1 dataframe called twitter_archive_master_df."
   ]
  },
  {
   "cell_type": "markdown",
   "metadata": {},
   "source": [
    "## Step 4. Storing Data\n",
    "Once all the above steps are done, I stored the final wrangles data into twitter_archive_master.csv for future use."
   ]
  },
  {
   "cell_type": "markdown",
   "metadata": {},
   "source": [
    "## Step 5: Analyzing and Visualizing Data\n",
    "Using twitter_archive_master.csv, I did some basic analysis like \n",
    "1. Tweet Sources: More than 95% of the users are using twitter for iphone\n",
    "2. 65% of the tweets are about dogs in pupper stage\n",
    "3. More than 25% of the tweets are about Top 5 most popular dogs combined\n",
    "\n",
    "And visualizations like\n",
    "1. Popularity vs Ratings\n",
    "2. Favourite vs TimeStamp"
   ]
  },
  {
   "cell_type": "code",
   "execution_count": null,
   "metadata": {},
   "outputs": [],
   "source": []
  }
 ],
 "metadata": {
  "kernelspec": {
   "display_name": "Python 3 (ipykernel)",
   "language": "python",
   "name": "python3"
  },
  "language_info": {
   "codemirror_mode": {
    "name": "ipython",
    "version": 3
   },
   "file_extension": ".py",
   "mimetype": "text/x-python",
   "name": "python",
   "nbconvert_exporter": "python",
   "pygments_lexer": "ipython3",
   "version": "3.10.9"
  }
 },
 "nbformat": 4,
 "nbformat_minor": 2
}

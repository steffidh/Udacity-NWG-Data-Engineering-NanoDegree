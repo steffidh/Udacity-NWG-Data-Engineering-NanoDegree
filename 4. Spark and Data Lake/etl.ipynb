{
 "cells": [
  {
   "cell_type": "code",
   "execution_count": 20,
   "metadata": {
    "editable": true,
    "execution": {
     "iopub.execute_input": "2023-01-08T10:42:56.579319Z",
     "iopub.status.busy": "2023-01-08T10:42:56.579082Z",
     "iopub.status.idle": "2023-01-08T10:42:56.637269Z",
     "shell.execute_reply": "2023-01-08T10:42:56.636627Z",
     "shell.execute_reply.started": "2023-01-08T10:42:56.579286Z"
    },
    "tags": []
   },
   "outputs": [
    {
     "data": {
      "application/vnd.jupyter.widget-view+json": {
       "model_id": "aec75abae2ae473c93d131abf87e9584",
       "version_major": 2,
       "version_minor": 0
      },
      "text/plain": [
       "VBox()"
      ]
     },
     "metadata": {},
     "output_type": "display_data"
    },
    {
     "data": {
      "application/vnd.jupyter.widget-view+json": {
       "model_id": "",
       "version_major": 2,
       "version_minor": 0
      },
      "text/plain": [
       "FloatProgress(value=0.0, bar_style='info', description='Progress:', layout=Layout(height='25px', width='50%'),…"
      ]
     },
     "metadata": {},
     "output_type": "display_data"
    }
   ],
   "source": [
    "import configparser\n",
    "from datetime import datetime\n",
    "import os\n",
    "from pyspark.sql import SparkSession\n",
    "from pyspark.sql.functions import udf, col\n",
    "from pyspark.sql.functions import year, month, dayofmonth, hour, weekofyear, date_format\n",
    "from pyspark.sql.window import Window"
   ]
  },
  {
   "cell_type": "code",
   "execution_count": 2,
   "metadata": {
    "editable": true,
    "execution": {
     "iopub.execute_input": "2023-01-08T10:32:35.622621Z",
     "iopub.status.busy": "2023-01-08T10:32:35.622447Z",
     "iopub.status.idle": "2023-01-08T10:32:36.635322Z",
     "shell.execute_reply": "2023-01-08T10:32:36.634693Z",
     "shell.execute_reply.started": "2023-01-08T10:32:35.622599Z"
    },
    "tags": []
   },
   "outputs": [
    {
     "data": {
      "application/vnd.jupyter.widget-view+json": {
       "model_id": "cf9fc8a61b534f698d1e21131c3dc0c6",
       "version_major": 2,
       "version_minor": 0
      },
      "text/plain": [
       "VBox()"
      ]
     },
     "metadata": {},
     "output_type": "display_data"
    },
    {
     "data": {
      "application/vnd.jupyter.widget-view+json": {
       "model_id": "",
       "version_major": 2,
       "version_minor": 0
      },
      "text/plain": [
       "FloatProgress(value=0.0, bar_style='info', description='Progress:', layout=Layout(height='25px', width='50%'),…"
      ]
     },
     "metadata": {},
     "output_type": "display_data"
    }
   ],
   "source": [
    "def create_spark_session():\n",
    "    spark = SparkSession \\\n",
    "        .builder \\\n",
    "        .config(\"spark.jars.packages\", \"org.apache.hadoop:hadoop-aws:2.7.0\") \\\n",
    "        .getOrCreate()\n",
    "    return spark\n",
    "spark=create_spark_session()"
   ]
  },
  {
   "cell_type": "code",
   "execution_count": 3,
   "metadata": {
    "editable": true,
    "execution": {
     "iopub.execute_input": "2023-01-08T10:32:36.637308Z",
     "iopub.status.busy": "2023-01-08T10:32:36.636898Z",
     "iopub.status.idle": "2023-01-08T10:32:36.701006Z",
     "shell.execute_reply": "2023-01-08T10:32:36.700413Z",
     "shell.execute_reply.started": "2023-01-08T10:32:36.637271Z"
    },
    "tags": []
   },
   "outputs": [
    {
     "data": {
      "application/vnd.jupyter.widget-view+json": {
       "model_id": "bb6adec0a169416f8d558b24c9c69ab7",
       "version_major": 2,
       "version_minor": 0
      },
      "text/plain": [
       "VBox()"
      ]
     },
     "metadata": {},
     "output_type": "display_data"
    },
    {
     "data": {
      "application/vnd.jupyter.widget-view+json": {
       "model_id": "",
       "version_major": 2,
       "version_minor": 0
      },
      "text/plain": [
       "FloatProgress(value=0.0, bar_style='info', description='Progress:', layout=Layout(height='25px', width='50%'),…"
      ]
     },
     "metadata": {},
     "output_type": "display_data"
    }
   ],
   "source": [
    "input_data = 's3a://udacity-dend/'\n",
    "output_data = 's3a://spark-and-data-lake/output/'"
   ]
  },
  {
   "cell_type": "markdown",
   "metadata": {
    "editable": true
   },
   "source": [
    "# Songs Data"
   ]
  },
  {
   "cell_type": "code",
   "execution_count": 4,
   "metadata": {
    "editable": true,
    "execution": {
     "iopub.execute_input": "2023-01-08T10:32:36.702120Z",
     "iopub.status.busy": "2023-01-08T10:32:36.701953Z",
     "iopub.status.idle": "2023-01-08T10:35:08.483548Z",
     "shell.execute_reply": "2023-01-08T10:35:08.482773Z",
     "shell.execute_reply.started": "2023-01-08T10:32:36.702098Z"
    },
    "tags": []
   },
   "outputs": [
    {
     "data": {
      "application/vnd.jupyter.widget-view+json": {
       "model_id": "8ddf6148953c40d380da5cb74a4ed0ec",
       "version_major": 2,
       "version_minor": 0
      },
      "text/plain": [
       "VBox()"
      ]
     },
     "metadata": {},
     "output_type": "display_data"
    },
    {
     "data": {
      "application/vnd.jupyter.widget-view+json": {
       "model_id": "",
       "version_major": 2,
       "version_minor": 0
      },
      "text/plain": [
       "FloatProgress(value=0.0, bar_style='info', description='Progress:', layout=Layout(height='25px', width='50%'),…"
      ]
     },
     "metadata": {},
     "output_type": "display_data"
    },
    {
     "name": "stdout",
     "output_type": "stream",
     "text": [
      "DataFrame[artist_id: string, artist_latitude: double, artist_location: string, artist_longitude: double, artist_name: string, duration: double, num_songs: bigint, song_id: string, title: string, year: bigint]"
     ]
    }
   ],
   "source": [
    "song_data = input_data + 'song_data/*/*/*/'\n",
    "song_df = spark.read.json(song_data)\n",
    "song_df"
   ]
  },
  {
   "cell_type": "markdown",
   "metadata": {
    "editable": true
   },
   "source": [
    "## Songs Table"
   ]
  },
  {
   "cell_type": "code",
   "execution_count": 5,
   "metadata": {
    "editable": true,
    "execution": {
     "iopub.execute_input": "2023-01-08T10:35:13.596298Z",
     "iopub.status.busy": "2023-01-08T10:35:13.596068Z",
     "iopub.status.idle": "2023-01-08T10:36:19.056878Z",
     "shell.execute_reply": "2023-01-08T10:36:19.056031Z",
     "shell.execute_reply.started": "2023-01-08T10:35:13.596273Z"
    },
    "tags": []
   },
   "outputs": [
    {
     "data": {
      "application/vnd.jupyter.widget-view+json": {
       "model_id": "cd20865805604ad1813d112a667ac47e",
       "version_major": 2,
       "version_minor": 0
      },
      "text/plain": [
       "VBox()"
      ]
     },
     "metadata": {},
     "output_type": "display_data"
    },
    {
     "data": {
      "application/vnd.jupyter.widget-view+json": {
       "model_id": "",
       "version_major": 2,
       "version_minor": 0
      },
      "text/plain": [
       "FloatProgress(value=0.0, bar_style='info', description='Progress:', layout=Layout(height='25px', width='50%'),…"
      ]
     },
     "metadata": {},
     "output_type": "display_data"
    },
    {
     "name": "stdout",
     "output_type": "stream",
     "text": [
      "+------------------+--------------------+------------------+----+---------+\n",
      "|           song_id|               title|         artist_id|year| duration|\n",
      "+------------------+--------------------+------------------+----+---------+\n",
      "|SOFXVGR12A67AE0974|I'm A Star (Expli...|ARWVM0Q1187B9A2AFD|2005|237.19138|\n",
      "|SOVVCEK12A6D4F6373|Everything You Al...|ARRL7WS1187FB576F1|   0|165.98159|\n",
      "|SOGJQWG12A81C20AE7|IX E Major [24 Pr...|ARC5EHQ1187FB4834F|   0|227.73506|\n",
      "|SOAYZVD12A6D4F8145|Section  53_ Row ...|AR6PETN1187B998AA2|   0|312.16281|\n",
      "|SOYVBGZ12A6D4F92A8|Piano Sonata No. ...|ARLRWBW1242077EB29|   0|221.70077|\n",
      "+------------------+--------------------+------------------+----+---------+\n",
      "only showing top 5 rows\n",
      "\n",
      "root\n",
      " |-- song_id: string (nullable = true)\n",
      " |-- title: string (nullable = true)\n",
      " |-- artist_id: string (nullable = true)\n",
      " |-- year: long (nullable = true)\n",
      " |-- duration: double (nullable = true)"
     ]
    }
   ],
   "source": [
    "songs_table = song_df.select([\"song_id\", \"title\", \"artist_id\", \"year\", \"duration\"]).distinct()\n",
    "songs_table.show(5)\n",
    "songs_table.printSchema()"
   ]
  },
  {
   "cell_type": "code",
   "execution_count": 6,
   "metadata": {
    "editable": true,
    "execution": {
     "iopub.execute_input": "2023-01-08T10:36:26.936348Z",
     "iopub.status.busy": "2023-01-08T10:36:26.936123Z",
     "iopub.status.idle": "2023-01-08T10:37:26.362172Z",
     "shell.execute_reply": "2023-01-08T10:37:26.361594Z",
     "shell.execute_reply.started": "2023-01-08T10:36:26.936323Z"
    },
    "tags": []
   },
   "outputs": [
    {
     "data": {
      "application/vnd.jupyter.widget-view+json": {
       "model_id": "3124191c77d942ef84141252ce731088",
       "version_major": 2,
       "version_minor": 0
      },
      "text/plain": [
       "VBox()"
      ]
     },
     "metadata": {},
     "output_type": "display_data"
    },
    {
     "data": {
      "application/vnd.jupyter.widget-view+json": {
       "model_id": "",
       "version_major": 2,
       "version_minor": 0
      },
      "text/plain": [
       "FloatProgress(value=0.0, bar_style='info', description='Progress:', layout=Layout(height='25px', width='50%'),…"
      ]
     },
     "metadata": {},
     "output_type": "display_data"
    },
    {
     "name": "stdout",
     "output_type": "stream",
     "text": [
      "14896"
     ]
    }
   ],
   "source": [
    "songs_table.count()"
   ]
  },
  {
   "cell_type": "markdown",
   "metadata": {
    "editable": true
   },
   "source": [
    "## Artists Table"
   ]
  },
  {
   "cell_type": "code",
   "execution_count": 7,
   "metadata": {
    "editable": true,
    "execution": {
     "iopub.execute_input": "2023-01-08T10:37:31.862707Z",
     "iopub.status.busy": "2023-01-08T10:37:31.862479Z",
     "iopub.status.idle": "2023-01-08T10:38:25.298048Z",
     "shell.execute_reply": "2023-01-08T10:38:25.297330Z",
     "shell.execute_reply.started": "2023-01-08T10:37:31.862682Z"
    },
    "tags": []
   },
   "outputs": [
    {
     "data": {
      "application/vnd.jupyter.widget-view+json": {
       "model_id": "d0fdd78f8118476aac94e4e7834727e5",
       "version_major": 2,
       "version_minor": 0
      },
      "text/plain": [
       "VBox()"
      ]
     },
     "metadata": {},
     "output_type": "display_data"
    },
    {
     "data": {
      "application/vnd.jupyter.widget-view+json": {
       "model_id": "",
       "version_major": 2,
       "version_minor": 0
      },
      "text/plain": [
       "FloatProgress(value=0.0, bar_style='info', description='Progress:', layout=Layout(height='25px', width='50%'),…"
      ]
     },
     "metadata": {},
     "output_type": "display_data"
    },
    {
     "name": "stdout",
     "output_type": "stream",
     "text": [
      "+------------------+--------------------+--------------------+---------------+----------------+\n",
      "|         artist_id|         artist_name|     artist_location|artist_latitude|artist_longitude|\n",
      "+------------------+--------------------+--------------------+---------------+----------------+\n",
      "|ARAILTA11F4C840A06|Endellion String ...|                    |           null|            null|\n",
      "|ARBB8QH1187FB54138|Paul Hindemith/Ph...|                    |           null|            null|\n",
      "|AROU8WM1187B9B4620|   Milton Nascimento|Rio de Janeiro, B...|      -22.97673|       -43.19508|\n",
      "|ARL1MEI1187B9AD98B|Streetlight Manif...|New Brunswick, Ne...|           null|            null|\n",
      "|AR1L2NA119B86684B4|Dr. Hook And The ...|Union City, New J...|       40.77387|       -74.02469|\n",
      "+------------------+--------------------+--------------------+---------------+----------------+\n",
      "only showing top 5 rows\n",
      "\n",
      "root\n",
      " |-- artist_id: string (nullable = true)\n",
      " |-- artist_name: string (nullable = true)\n",
      " |-- artist_location: string (nullable = true)\n",
      " |-- artist_latitude: double (nullable = true)\n",
      " |-- artist_longitude: double (nullable = true)"
     ]
    }
   ],
   "source": [
    "artists_table = song_df.select([\"artist_id\", \"artist_name\", \"artist_location\", \"artist_latitude\", \"artist_longitude\"]).distinct()\n",
    "artists_table.show(5)\n",
    "artists_table.printSchema()"
   ]
  },
  {
   "cell_type": "code",
   "execution_count": 8,
   "metadata": {
    "editable": true,
    "execution": {
     "iopub.execute_input": "2023-01-08T10:38:29.210578Z",
     "iopub.status.busy": "2023-01-08T10:38:29.210358Z",
     "iopub.status.idle": "2023-01-08T10:39:22.648298Z",
     "shell.execute_reply": "2023-01-08T10:39:22.647471Z",
     "shell.execute_reply.started": "2023-01-08T10:38:29.210555Z"
    },
    "tags": []
   },
   "outputs": [
    {
     "data": {
      "application/vnd.jupyter.widget-view+json": {
       "model_id": "a518e16dbf2d499385b47d5935238590",
       "version_major": 2,
       "version_minor": 0
      },
      "text/plain": [
       "VBox()"
      ]
     },
     "metadata": {},
     "output_type": "display_data"
    },
    {
     "data": {
      "application/vnd.jupyter.widget-view+json": {
       "model_id": "",
       "version_major": 2,
       "version_minor": 0
      },
      "text/plain": [
       "FloatProgress(value=0.0, bar_style='info', description='Progress:', layout=Layout(height='25px', width='50%'),…"
      ]
     },
     "metadata": {},
     "output_type": "display_data"
    },
    {
     "name": "stdout",
     "output_type": "stream",
     "text": [
      "10025"
     ]
    }
   ],
   "source": [
    "artists_table.count()"
   ]
  },
  {
   "cell_type": "markdown",
   "metadata": {
    "editable": true
   },
   "source": [
    "# Log Data"
   ]
  },
  {
   "cell_type": "code",
   "execution_count": 11,
   "metadata": {
    "editable": true,
    "execution": {
     "iopub.execute_input": "2023-01-08T10:41:46.073550Z",
     "iopub.status.busy": "2023-01-08T10:41:46.073321Z",
     "iopub.status.idle": "2023-01-08T10:41:55.381608Z",
     "shell.execute_reply": "2023-01-08T10:41:55.380986Z",
     "shell.execute_reply.started": "2023-01-08T10:41:46.073525Z"
    },
    "tags": []
   },
   "outputs": [
    {
     "data": {
      "application/vnd.jupyter.widget-view+json": {
       "model_id": "95b0b3757dd5418a9b16d5a32f768009",
       "version_major": 2,
       "version_minor": 0
      },
      "text/plain": [
       "VBox()"
      ]
     },
     "metadata": {},
     "output_type": "display_data"
    },
    {
     "data": {
      "application/vnd.jupyter.widget-view+json": {
       "model_id": "",
       "version_major": 2,
       "version_minor": 0
      },
      "text/plain": [
       "FloatProgress(value=0.0, bar_style='info', description='Progress:', layout=Layout(height='25px', width='50%'),…"
      ]
     },
     "metadata": {},
     "output_type": "display_data"
    },
    {
     "name": "stdout",
     "output_type": "stream",
     "text": [
      "DataFrame[artist: string, auth: string, firstName: string, gender: string, itemInSession: bigint, lastName: string, length: double, level: string, location: string, method: string, page: string, registration: double, sessionId: bigint, song: string, status: bigint, ts: bigint, userAgent: string, userId: string]"
     ]
    }
   ],
   "source": [
    "log_data = input_data + \"log_data/*/*/\"\n",
    "log_df = spark.read.json(log_data)\n",
    "log_df"
   ]
  },
  {
   "cell_type": "code",
   "execution_count": 12,
   "metadata": {
    "editable": true,
    "execution": {
     "iopub.execute_input": "2023-01-08T10:42:00.712441Z",
     "iopub.status.busy": "2023-01-08T10:42:00.712209Z",
     "iopub.status.idle": "2023-01-08T10:42:00.981967Z",
     "shell.execute_reply": "2023-01-08T10:42:00.981122Z",
     "shell.execute_reply.started": "2023-01-08T10:42:00.712417Z"
    }
   },
   "outputs": [
    {
     "data": {
      "application/vnd.jupyter.widget-view+json": {
       "model_id": "357afbaed9ab41e085156b80f9ea9cac",
       "version_major": 2,
       "version_minor": 0
      },
      "text/plain": [
       "VBox()"
      ]
     },
     "metadata": {},
     "output_type": "display_data"
    },
    {
     "data": {
      "application/vnd.jupyter.widget-view+json": {
       "model_id": "",
       "version_major": 2,
       "version_minor": 0
      },
      "text/plain": [
       "FloatProgress(value=0.0, bar_style='info', description='Progress:', layout=Layout(height='25px', width='50%'),…"
      ]
     },
     "metadata": {},
     "output_type": "display_data"
    },
    {
     "name": "stdout",
     "output_type": "stream",
     "text": [
      "DataFrame[artist: string, auth: string, firstName: string, gender: string, itemInSession: bigint, lastName: string, length: double, level: string, location: string, method: string, page: string, registration: double, sessionId: bigint, song: string, status: bigint, ts: bigint, userAgent: string, userId: string]"
     ]
    }
   ],
   "source": [
    "log_df =log_df.where('page=\"NextSong\"')\n",
    "log_df"
   ]
  },
  {
   "cell_type": "markdown",
   "metadata": {
    "editable": true
   },
   "source": [
    "## Users Table"
   ]
  },
  {
   "cell_type": "code",
   "execution_count": 13,
   "metadata": {
    "editable": true,
    "execution": {
     "iopub.execute_input": "2023-01-08T10:42:03.713621Z",
     "iopub.status.busy": "2023-01-08T10:42:03.713344Z",
     "iopub.status.idle": "2023-01-08T10:42:05.986881Z",
     "shell.execute_reply": "2023-01-08T10:42:05.986129Z",
     "shell.execute_reply.started": "2023-01-08T10:42:03.713581Z"
    }
   },
   "outputs": [
    {
     "data": {
      "application/vnd.jupyter.widget-view+json": {
       "model_id": "ebc3976c1e7f405390cd8e8c4e0e2290",
       "version_major": 2,
       "version_minor": 0
      },
      "text/plain": [
       "VBox()"
      ]
     },
     "metadata": {},
     "output_type": "display_data"
    },
    {
     "data": {
      "application/vnd.jupyter.widget-view+json": {
       "model_id": "",
       "version_major": 2,
       "version_minor": 0
      },
      "text/plain": [
       "FloatProgress(value=0.0, bar_style='info', description='Progress:', layout=Layout(height='25px', width='50%'),…"
      ]
     },
     "metadata": {},
     "output_type": "display_data"
    },
    {
     "name": "stdout",
     "output_type": "stream",
     "text": [
      "+------+---------+--------+------+-----+\n",
      "|userId|firstName|lastName|gender|level|\n",
      "+------+---------+--------+------+-----+\n",
      "|    80|    Tegan|  Levine|     F| paid|\n",
      "|    16|    Rylan|  George|     M| paid|\n",
      "|    48|   Marina|  Sutton|     F| free|\n",
      "|    83|  Stefany|   White|     F| free|\n",
      "|     8|   Kaylee| Summers|     F| free|\n",
      "+------+---------+--------+------+-----+\n",
      "only showing top 5 rows\n",
      "\n",
      "root\n",
      " |-- userId: string (nullable = true)\n",
      " |-- firstName: string (nullable = true)\n",
      " |-- lastName: string (nullable = true)\n",
      " |-- gender: string (nullable = true)\n",
      " |-- level: string (nullable = true)"
     ]
    }
   ],
   "source": [
    "users_table = log_df.select([\"userId\", \"firstName\", \"lastName\", \"gender\", \"level\"]).distinct()\n",
    "users_table.show(5)\n",
    "users_table.printSchema()"
   ]
  },
  {
   "cell_type": "code",
   "execution_count": 14,
   "metadata": {
    "editable": true,
    "execution": {
     "iopub.execute_input": "2023-01-08T10:42:08.488607Z",
     "iopub.status.busy": "2023-01-08T10:42:08.488372Z",
     "iopub.status.idle": "2023-01-08T10:42:09.761145Z",
     "shell.execute_reply": "2023-01-08T10:42:09.760403Z",
     "shell.execute_reply.started": "2023-01-08T10:42:08.488582Z"
    }
   },
   "outputs": [
    {
     "data": {
      "application/vnd.jupyter.widget-view+json": {
       "model_id": "32cb9c265f5746929aa990854e3a8d69",
       "version_major": 2,
       "version_minor": 0
      },
      "text/plain": [
       "VBox()"
      ]
     },
     "metadata": {},
     "output_type": "display_data"
    },
    {
     "data": {
      "application/vnd.jupyter.widget-view+json": {
       "model_id": "",
       "version_major": 2,
       "version_minor": 0
      },
      "text/plain": [
       "FloatProgress(value=0.0, bar_style='info', description='Progress:', layout=Layout(height='25px', width='50%'),…"
      ]
     },
     "metadata": {},
     "output_type": "display_data"
    },
    {
     "name": "stdout",
     "output_type": "stream",
     "text": [
      "104"
     ]
    }
   ],
   "source": [
    "users_table.count()"
   ]
  },
  {
   "cell_type": "markdown",
   "metadata": {
    "editable": true
   },
   "source": [
    "## Time Table"
   ]
  },
  {
   "cell_type": "code",
   "execution_count": 15,
   "metadata": {
    "editable": true,
    "execution": {
     "iopub.execute_input": "2023-01-08T10:42:16.556399Z",
     "iopub.status.busy": "2023-01-08T10:42:16.556133Z",
     "iopub.status.idle": "2023-01-08T10:42:21.844508Z",
     "shell.execute_reply": "2023-01-08T10:42:21.843946Z",
     "shell.execute_reply.started": "2023-01-08T10:42:16.556371Z"
    }
   },
   "outputs": [
    {
     "data": {
      "application/vnd.jupyter.widget-view+json": {
       "model_id": "98a984fda36f46da915d6c2e04513bf6",
       "version_major": 2,
       "version_minor": 0
      },
      "text/plain": [
       "VBox()"
      ]
     },
     "metadata": {},
     "output_type": "display_data"
    },
    {
     "data": {
      "application/vnd.jupyter.widget-view+json": {
       "model_id": "",
       "version_major": 2,
       "version_minor": 0
      },
      "text/plain": [
       "FloatProgress(value=0.0, bar_style='info', description='Progress:', layout=Layout(height='25px', width='50%'),…"
      ]
     },
     "metadata": {},
     "output_type": "display_data"
    },
    {
     "name": "stdout",
     "output_type": "stream",
     "text": [
      "+--------------------+\n",
      "|           timestamp|\n",
      "+--------------------+\n",
      "|2018-11-15 00:30:...|\n",
      "|2018-11-15 00:41:...|\n",
      "+--------------------+\n",
      "only showing top 2 rows"
     ]
    }
   ],
   "source": [
    "from pyspark.sql.types import TimestampType\n",
    "get_timestamp = udf(lambda x: datetime.fromtimestamp((x / 1000)), TimestampType())\n",
    "log_df = log_df.withColumn(\"timestamp\", get_timestamp(col(\"ts\")))\n",
    "log_df.select('timestamp').show(2)"
   ]
  },
  {
   "cell_type": "code",
   "execution_count": 16,
   "metadata": {
    "editable": true,
    "execution": {
     "iopub.execute_input": "2023-01-08T10:42:25.945354Z",
     "iopub.status.busy": "2023-01-08T10:42:25.945134Z",
     "iopub.status.idle": "2023-01-08T10:42:26.708336Z",
     "shell.execute_reply": "2023-01-08T10:42:26.707585Z",
     "shell.execute_reply.started": "2023-01-08T10:42:25.945331Z"
    }
   },
   "outputs": [
    {
     "data": {
      "application/vnd.jupyter.widget-view+json": {
       "model_id": "9d22372895114179b96cd4661d07c583",
       "version_major": 2,
       "version_minor": 0
      },
      "text/plain": [
       "VBox()"
      ]
     },
     "metadata": {},
     "output_type": "display_data"
    },
    {
     "data": {
      "application/vnd.jupyter.widget-view+json": {
       "model_id": "",
       "version_major": 2,
       "version_minor": 0
      },
      "text/plain": [
       "FloatProgress(value=0.0, bar_style='info', description='Progress:', layout=Layout(height='25px', width='50%'),…"
      ]
     },
     "metadata": {},
     "output_type": "display_data"
    },
    {
     "name": "stdout",
     "output_type": "stream",
     "text": [
      "+--------------------+----+---+----+-----+----+-------+\n",
      "|          start_time|hour|day|week|month|year|weekday|\n",
      "+--------------------+----+---+----+-----+----+-------+\n",
      "|2018-11-15 00:30:...|   0| 15|  46|   11|2018|    Thu|\n",
      "|2018-11-15 00:41:...|   0| 15|  46|   11|2018|    Thu|\n",
      "|2018-11-15 00:45:...|   0| 15|  46|   11|2018|    Thu|\n",
      "|2018-11-15 03:44:...|   3| 15|  46|   11|2018|    Thu|\n",
      "|2018-11-15 05:48:...|   5| 15|  46|   11|2018|    Thu|\n",
      "+--------------------+----+---+----+-----+----+-------+\n",
      "only showing top 5 rows\n",
      "\n",
      "root\n",
      " |-- start_time: timestamp (nullable = true)\n",
      " |-- hour: integer (nullable = true)\n",
      " |-- day: integer (nullable = true)\n",
      " |-- week: integer (nullable = true)\n",
      " |-- month: integer (nullable = true)\n",
      " |-- year: integer (nullable = true)\n",
      " |-- weekday: string (nullable = true)"
     ]
    }
   ],
   "source": [
    "time_table = log_df.select(\n",
    "    col('timestamp').alias('start_time'),\n",
    "    hour('timestamp').alias('hour'),\n",
    "    dayofmonth('timestamp').alias('day'),\n",
    "    weekofyear('timestamp').alias('week'),\n",
    "    month('timestamp').alias('month'),\n",
    "    year('timestamp').alias('year'),\n",
    "    date_format(col(\"timestamp\"), \"E\").alias(\"weekday\")\n",
    ")\n",
    "time_table.show(5)\n",
    "time_table.printSchema()"
   ]
  },
  {
   "cell_type": "code",
   "execution_count": 17,
   "metadata": {
    "editable": true,
    "execution": {
     "iopub.execute_input": "2023-01-08T10:42:29.109699Z",
     "iopub.status.busy": "2023-01-08T10:42:29.109459Z",
     "iopub.status.idle": "2023-01-08T10:42:29.883335Z",
     "shell.execute_reply": "2023-01-08T10:42:29.882641Z",
     "shell.execute_reply.started": "2023-01-08T10:42:29.109673Z"
    }
   },
   "outputs": [
    {
     "data": {
      "application/vnd.jupyter.widget-view+json": {
       "model_id": "32a909c13ff44e9887722c60e53f7894",
       "version_major": 2,
       "version_minor": 0
      },
      "text/plain": [
       "VBox()"
      ]
     },
     "metadata": {},
     "output_type": "display_data"
    },
    {
     "data": {
      "application/vnd.jupyter.widget-view+json": {
       "model_id": "",
       "version_major": 2,
       "version_minor": 0
      },
      "text/plain": [
       "FloatProgress(value=0.0, bar_style='info', description='Progress:', layout=Layout(height='25px', width='50%'),…"
      ]
     },
     "metadata": {},
     "output_type": "display_data"
    },
    {
     "name": "stdout",
     "output_type": "stream",
     "text": [
      "6820"
     ]
    }
   ],
   "source": [
    "time_table.count()"
   ]
  },
  {
   "cell_type": "markdown",
   "metadata": {
    "editable": true
   },
   "source": [
    "## Songplays Table"
   ]
  },
  {
   "cell_type": "code",
   "execution_count": 21,
   "metadata": {
    "editable": true,
    "execution": {
     "iopub.execute_input": "2023-01-08T10:43:08.818173Z",
     "iopub.status.busy": "2023-01-08T10:43:08.817947Z",
     "iopub.status.idle": "2023-01-08T10:44:14.263844Z",
     "shell.execute_reply": "2023-01-08T10:44:14.263180Z",
     "shell.execute_reply.started": "2023-01-08T10:43:08.818148Z"
    },
    "tags": []
   },
   "outputs": [
    {
     "data": {
      "application/vnd.jupyter.widget-view+json": {
       "model_id": "cfa163ee3aa64024b937c71c6a7e9e30",
       "version_major": 2,
       "version_minor": 0
      },
      "text/plain": [
       "VBox()"
      ]
     },
     "metadata": {},
     "output_type": "display_data"
    },
    {
     "data": {
      "application/vnd.jupyter.widget-view+json": {
       "model_id": "",
       "version_major": 2,
       "version_minor": 0
      },
      "text/plain": [
       "FloatProgress(value=0.0, bar_style='info', description='Progress:', layout=Layout(height='25px', width='50%'),…"
      ]
     },
     "metadata": {},
     "output_type": "display_data"
    },
    {
     "name": "stdout",
     "output_type": "stream",
     "text": [
      "+-----------+--------------------+-------+-----+------------------+------------------+----------+--------------------+--------------------+----+-----+\n",
      "|songplay_id|          start_time|user_id|level|           song_id|         artist_id|session_id|            location|          user_agent|year|month|\n",
      "+-----------+--------------------+-------+-----+------------------+------------------+----------+--------------------+--------------------+----+-----+\n",
      "|          0|2018-11-15 07:31:...|     49| paid|SOCUITT12AB0187A32|ARKS2FE1187B99325D|       606|San Francisco-Oak...|Mozilla/5.0 (Wind...|2018|   11|\n",
      "|          1|2018-11-15 10:44:...|     80| paid|SOSDZFY12A8C143718|AR748W61187B9B6AB8|       611|Portland-South Po...|\"Mozilla/5.0 (Mac...|2018|   11|\n",
      "+-----------+--------------------+-------+-----+------------------+------------------+----------+--------------------+--------------------+----+-----+\n",
      "only showing top 2 rows"
     ]
    }
   ],
   "source": [
    "song_df.createOrReplaceTempView(\"song_data\")\n",
    "log_df.createOrReplaceTempView(\"log_data\")\n",
    "    \n",
    "songplays_table = spark.sql(\"\"\"\n",
    "                            SELECT monotonically_increasing_id() as songplay_id,\n",
    "                                timestamp as start_time,\n",
    "                                userId as user_id,\n",
    "                                level,\n",
    "                                song_id,\n",
    "                                artist_id,\n",
    "                                sessionId as session_id,\n",
    "                                location,\n",
    "                                userAgent as user_agent,\n",
    "                                year(timestamp) as year, \n",
    "                                month(timestamp) as month\n",
    "                            FROM log_data log\n",
    "                            JOIN song_data song\n",
    "                            ON (log.song = song.title\n",
    "                            AND log.length = song.duration\n",
    "                            AND log.artist = song.artist_name)\n",
    "                            \"\"\")\n",
    "songplays_table.show(2)"
   ]
  },
  {
   "cell_type": "code",
   "execution_count": 22,
   "metadata": {
    "editable": true,
    "execution": {
     "iopub.execute_input": "2023-01-08T10:44:29.816832Z",
     "iopub.status.busy": "2023-01-08T10:44:29.816602Z",
     "iopub.status.idle": "2023-01-08T10:44:29.872913Z",
     "shell.execute_reply": "2023-01-08T10:44:29.872305Z",
     "shell.execute_reply.started": "2023-01-08T10:44:29.816807Z"
    }
   },
   "outputs": [
    {
     "data": {
      "application/vnd.jupyter.widget-view+json": {
       "model_id": "35cc92ad57ca42c5b0f5030a26b4ad91",
       "version_major": 2,
       "version_minor": 0
      },
      "text/plain": [
       "VBox()"
      ]
     },
     "metadata": {},
     "output_type": "display_data"
    },
    {
     "data": {
      "application/vnd.jupyter.widget-view+json": {
       "model_id": "",
       "version_major": 2,
       "version_minor": 0
      },
      "text/plain": [
       "FloatProgress(value=0.0, bar_style='info', description='Progress:', layout=Layout(height='25px', width='50%'),…"
      ]
     },
     "metadata": {},
     "output_type": "display_data"
    },
    {
     "name": "stdout",
     "output_type": "stream",
     "text": [
      "root\n",
      " |-- songplay_id: long (nullable = false)\n",
      " |-- start_time: timestamp (nullable = true)\n",
      " |-- user_id: string (nullable = true)\n",
      " |-- level: string (nullable = true)\n",
      " |-- song_id: string (nullable = true)\n",
      " |-- artist_id: string (nullable = true)\n",
      " |-- session_id: long (nullable = true)\n",
      " |-- location: string (nullable = true)\n",
      " |-- user_agent: string (nullable = true)\n",
      " |-- year: integer (nullable = true)\n",
      " |-- month: integer (nullable = true)"
     ]
    }
   ],
   "source": [
    "songplays_table.printSchema()"
   ]
  },
  {
   "cell_type": "code",
   "execution_count": 23,
   "metadata": {
    "editable": true,
    "execution": {
     "iopub.execute_input": "2023-01-08T10:44:32.524900Z",
     "iopub.status.busy": "2023-01-08T10:44:32.524677Z",
     "iopub.status.idle": "2023-01-08T10:45:27.940607Z",
     "shell.execute_reply": "2023-01-08T10:45:27.940024Z",
     "shell.execute_reply.started": "2023-01-08T10:44:32.524876Z"
    },
    "tags": []
   },
   "outputs": [
    {
     "data": {
      "application/vnd.jupyter.widget-view+json": {
       "model_id": "9bf23f63c92c431c9fd2fd5880707cf4",
       "version_major": 2,
       "version_minor": 0
      },
      "text/plain": [
       "VBox()"
      ]
     },
     "metadata": {},
     "output_type": "display_data"
    },
    {
     "data": {
      "application/vnd.jupyter.widget-view+json": {
       "model_id": "",
       "version_major": 2,
       "version_minor": 0
      },
      "text/plain": [
       "FloatProgress(value=0.0, bar_style='info', description='Progress:', layout=Layout(height='25px', width='50%'),…"
      ]
     },
     "metadata": {},
     "output_type": "display_data"
    },
    {
     "name": "stdout",
     "output_type": "stream",
     "text": [
      "319"
     ]
    }
   ],
   "source": [
    "songplays_table.count()"
   ]
  },
  {
   "cell_type": "markdown",
   "metadata": {
    "editable": true
   },
   "source": [
    "## Write Parquet"
   ]
  },
  {
   "cell_type": "code",
   "execution_count": 24,
   "metadata": {
    "editable": true,
    "execution": {
     "iopub.execute_input": "2023-01-08T10:45:56.380276Z",
     "iopub.status.busy": "2023-01-08T10:45:56.380040Z",
     "iopub.status.idle": "2023-01-08T10:46:15.703286Z",
     "shell.execute_reply": "2023-01-08T10:46:15.702588Z",
     "shell.execute_reply.started": "2023-01-08T10:45:56.380250Z"
    },
    "tags": []
   },
   "outputs": [
    {
     "data": {
      "application/vnd.jupyter.widget-view+json": {
       "model_id": "bfad0ec36bd14fa796757816a32756ef",
       "version_major": 2,
       "version_minor": 0
      },
      "text/plain": [
       "VBox()"
      ]
     },
     "metadata": {},
     "output_type": "display_data"
    },
    {
     "data": {
      "application/vnd.jupyter.widget-view+json": {
       "model_id": "",
       "version_major": 2,
       "version_minor": 0
      },
      "text/plain": [
       "FloatProgress(value=0.0, bar_style='info', description='Progress:', layout=Layout(height='25px', width='50%'),…"
      ]
     },
     "metadata": {},
     "output_type": "display_data"
    }
   ],
   "source": [
    "users_table.write.parquet(output_data + 'users/', mode = \"overwrite\")"
   ]
  },
  {
   "cell_type": "code",
   "execution_count": 25,
   "metadata": {
    "editable": true,
    "execution": {
     "iopub.execute_input": "2023-01-08T10:46:29.964739Z",
     "iopub.status.busy": "2023-01-08T10:46:29.964437Z",
     "iopub.status.idle": "2023-01-08T10:49:09.676214Z",
     "shell.execute_reply": "2023-01-08T10:49:09.675425Z",
     "shell.execute_reply.started": "2023-01-08T10:46:29.964704Z"
    },
    "tags": []
   },
   "outputs": [
    {
     "data": {
      "application/vnd.jupyter.widget-view+json": {
       "model_id": "89b22dcc81954698a58d2343724de725",
       "version_major": 2,
       "version_minor": 0
      },
      "text/plain": [
       "VBox()"
      ]
     },
     "metadata": {},
     "output_type": "display_data"
    },
    {
     "data": {
      "application/vnd.jupyter.widget-view+json": {
       "model_id": "",
       "version_major": 2,
       "version_minor": 0
      },
      "text/plain": [
       "FloatProgress(value=0.0, bar_style='info', description='Progress:', layout=Layout(height='25px', width='50%'),…"
      ]
     },
     "metadata": {},
     "output_type": "display_data"
    }
   ],
   "source": [
    "songplays_table.write.parquet(output_data + 'songplays/', mode = \"overwrite\", partitionBy = ['year','month'])"
   ]
  },
  {
   "cell_type": "code",
   "execution_count": 26,
   "metadata": {
    "editable": true,
    "execution": {
     "iopub.execute_input": "2023-01-08T10:49:50.348053Z",
     "iopub.status.busy": "2023-01-08T10:49:50.347378Z",
     "iopub.status.idle": "2023-01-08T10:50:05.674278Z",
     "shell.execute_reply": "2023-01-08T10:50:05.673642Z",
     "shell.execute_reply.started": "2023-01-08T10:49:50.348010Z"
    },
    "tags": []
   },
   "outputs": [
    {
     "data": {
      "application/vnd.jupyter.widget-view+json": {
       "model_id": "93861bd034d942ebaf199cb499311f45",
       "version_major": 2,
       "version_minor": 0
      },
      "text/plain": [
       "VBox()"
      ]
     },
     "metadata": {},
     "output_type": "display_data"
    },
    {
     "data": {
      "application/vnd.jupyter.widget-view+json": {
       "model_id": "",
       "version_major": 2,
       "version_minor": 0
      },
      "text/plain": [
       "FloatProgress(value=0.0, bar_style='info', description='Progress:', layout=Layout(height='25px', width='50%'),…"
      ]
     },
     "metadata": {},
     "output_type": "display_data"
    }
   ],
   "source": [
    "time_table.write.parquet(output_data + 'time/', mode = \"overwrite\", partitionBy = [\"year\", \"month\"])"
   ]
  },
  {
   "cell_type": "code",
   "execution_count": 27,
   "metadata": {
    "editable": true,
    "execution": {
     "iopub.execute_input": "2023-01-08T10:50:49.771385Z",
     "iopub.status.busy": "2023-01-08T10:50:49.771058Z",
     "iopub.status.idle": "2023-01-08T10:52:05.262081Z",
     "shell.execute_reply": "2023-01-08T10:52:05.261486Z",
     "shell.execute_reply.started": "2023-01-08T10:50:49.771345Z"
    },
    "tags": []
   },
   "outputs": [
    {
     "data": {
      "application/vnd.jupyter.widget-view+json": {
       "model_id": "8a82ca1209b94bdd8aa19498c5ce59d7",
       "version_major": 2,
       "version_minor": 0
      },
      "text/plain": [
       "VBox()"
      ]
     },
     "metadata": {},
     "output_type": "display_data"
    },
    {
     "data": {
      "application/vnd.jupyter.widget-view+json": {
       "model_id": "",
       "version_major": 2,
       "version_minor": 0
      },
      "text/plain": [
       "FloatProgress(value=0.0, bar_style='info', description='Progress:', layout=Layout(height='25px', width='50%'),…"
      ]
     },
     "metadata": {},
     "output_type": "display_data"
    }
   ],
   "source": [
    "artists_table.write.parquet(output_data + 'artists/', mode = \"overwrite\")"
   ]
  },
  {
   "cell_type": "code",
   "execution_count": 28,
   "metadata": {
    "editable": true,
    "execution": {
     "iopub.execute_input": "2023-01-08T10:52:42.891984Z",
     "iopub.status.busy": "2023-01-08T10:52:42.891753Z",
     "iopub.status.idle": "2023-01-08T10:53:46.348275Z",
     "shell.execute_reply": "2023-01-08T10:53:46.347564Z",
     "shell.execute_reply.started": "2023-01-08T10:52:42.891960Z"
    },
    "tags": []
   },
   "outputs": [
    {
     "data": {
      "application/vnd.jupyter.widget-view+json": {
       "model_id": "156d86625c03404fa4b39fc78f82ab26",
       "version_major": 2,
       "version_minor": 0
      },
      "text/plain": [
       "VBox()"
      ]
     },
     "metadata": {},
     "output_type": "display_data"
    },
    {
     "data": {
      "application/vnd.jupyter.widget-view+json": {
       "model_id": "",
       "version_major": 2,
       "version_minor": 0
      },
      "text/plain": [
       "FloatProgress(value=0.0, bar_style='info', description='Progress:', layout=Layout(height='25px', width='50%'),…"
      ]
     },
     "metadata": {},
     "output_type": "display_data"
    }
   ],
   "source": [
    "songs_table.write.parquet(output_data + 'songs_without_partition/', mode = \"overwrite\")"
   ]
  },
  {
   "cell_type": "code",
   "execution_count": null,
   "metadata": {
    "editable": true,
    "execution": {
     "iopub.execute_input": "2023-01-08T10:53:55.312209Z",
     "iopub.status.busy": "2023-01-08T10:53:55.311978Z"
    }
   },
   "outputs": [
    {
     "data": {
      "application/vnd.jupyter.widget-view+json": {
       "model_id": "8446cb0f8b854e42b77edc450a261fd1",
       "version_major": 2,
       "version_minor": 0
      },
      "text/plain": [
       "VBox()"
      ]
     },
     "metadata": {},
     "output_type": "display_data"
    },
    {
     "data": {
      "application/vnd.jupyter.widget-view+json": {
       "model_id": "d165bbec4d1143f19764eb55b8db0bbc",
       "version_major": 2,
       "version_minor": 0
      },
      "text/plain": [
       "FloatProgress(value=0.0, bar_style='info', description='Progress:', layout=Layout(height='25px', width='50%'),…"
      ]
     },
     "metadata": {},
     "output_type": "display_data"
    }
   ],
   "source": [
    "songs_table.write.parquet(output_data + 'songs/', mode = \"overwrite\", partitionBy = [\"year\", \"artist_id\"])"
   ]
  },
  {
   "cell_type": "code",
   "execution_count": null,
   "metadata": {
    "editable": true
   },
   "outputs": [],
   "source": []
  }
 ],
 "metadata": {
  "kernelspec": {
   "display_name": "Python 3",
   "language": "python",
   "name": "python3"
  },
  "language_info": {
   "codemirror_mode": {
    "name": "ipython",
    "version": 3
   },
   "file_extension": ".py",
   "mimetype": "text/x-python",
   "name": "python",
   "nbconvert_exporter": "python",
   "pygments_lexer": "ipython3",
   "version": "3.6.3"
  }
 },
 "nbformat": 4,
 "nbformat_minor": 5
}
